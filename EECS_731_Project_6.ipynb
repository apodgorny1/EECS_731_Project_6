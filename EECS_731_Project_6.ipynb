{
 "cells": [
  {
   "cell_type": "markdown",
   "metadata": {},
   "source": [
    "## EECS 731 Project 6\n",
    "### Adam Podgorny"
   ]
  },
  {
   "cell_type": "code",
   "execution_count": 460,
   "metadata": {},
   "outputs": [],
   "source": [
    "import pandas as pd\n",
    "from matplotlib import pyplot as plt\n",
    "from sklearn.model_selection import train_test_split\n",
    "from sklearn.metrics import confusion_matrix, f1_score\n",
    "from sklearn.metrics import classification_report"
   ]
  },
  {
   "cell_type": "code",
   "execution_count": 461,
   "metadata": {},
   "outputs": [],
   "source": [
    "data = pd.read_csv(\"rogue_agent_key_updown.csv\")"
   ]
  },
  {
   "cell_type": "code",
   "execution_count": 462,
   "metadata": {},
   "outputs": [
    {
     "data": {
      "text/html": [
       "<div>\n",
       "<style scoped>\n",
       "    .dataframe tbody tr th:only-of-type {\n",
       "        vertical-align: middle;\n",
       "    }\n",
       "\n",
       "    .dataframe tbody tr th {\n",
       "        vertical-align: top;\n",
       "    }\n",
       "\n",
       "    .dataframe thead th {\n",
       "        text-align: right;\n",
       "    }\n",
       "</style>\n",
       "<table border=\"1\" class=\"dataframe\">\n",
       "  <thead>\n",
       "    <tr style=\"text-align: right;\">\n",
       "      <th></th>\n",
       "      <th>timestamp</th>\n",
       "      <th>value</th>\n",
       "    </tr>\n",
       "  </thead>\n",
       "  <tbody>\n",
       "    <tr>\n",
       "      <td>0</td>\n",
       "      <td>2014-07-06 20:10:00</td>\n",
       "      <td>1.047256</td>\n",
       "    </tr>\n",
       "    <tr>\n",
       "      <td>1</td>\n",
       "      <td>2014-07-06 20:15:00</td>\n",
       "      <td>1.848031</td>\n",
       "    </tr>\n",
       "    <tr>\n",
       "      <td>2</td>\n",
       "      <td>2014-07-06 20:20:00</td>\n",
       "      <td>1.297892</td>\n",
       "    </tr>\n",
       "    <tr>\n",
       "      <td>3</td>\n",
       "      <td>2014-07-06 20:25:00</td>\n",
       "      <td>1.593151</td>\n",
       "    </tr>\n",
       "    <tr>\n",
       "      <td>4</td>\n",
       "      <td>2014-07-06 20:35:00</td>\n",
       "      <td>0.000000</td>\n",
       "    </tr>\n",
       "    <tr>\n",
       "      <td>...</td>\n",
       "      <td>...</td>\n",
       "      <td>...</td>\n",
       "    </tr>\n",
       "    <tr>\n",
       "      <td>5310</td>\n",
       "      <td>2014-07-25 08:35:00</td>\n",
       "      <td>3.751862</td>\n",
       "    </tr>\n",
       "    <tr>\n",
       "      <td>5311</td>\n",
       "      <td>2014-07-25 08:40:00</td>\n",
       "      <td>0.000000</td>\n",
       "    </tr>\n",
       "    <tr>\n",
       "      <td>5312</td>\n",
       "      <td>2014-07-25 08:45:00</td>\n",
       "      <td>15.505864</td>\n",
       "    </tr>\n",
       "    <tr>\n",
       "      <td>5313</td>\n",
       "      <td>2014-07-25 08:50:00</td>\n",
       "      <td>1.397614</td>\n",
       "    </tr>\n",
       "    <tr>\n",
       "      <td>5314</td>\n",
       "      <td>2014-07-25 08:55:00</td>\n",
       "      <td>0.000000</td>\n",
       "    </tr>\n",
       "  </tbody>\n",
       "</table>\n",
       "<p>5315 rows × 2 columns</p>\n",
       "</div>"
      ],
      "text/plain": [
       "                timestamp      value\n",
       "0     2014-07-06 20:10:00   1.047256\n",
       "1     2014-07-06 20:15:00   1.848031\n",
       "2     2014-07-06 20:20:00   1.297892\n",
       "3     2014-07-06 20:25:00   1.593151\n",
       "4     2014-07-06 20:35:00   0.000000\n",
       "...                   ...        ...\n",
       "5310  2014-07-25 08:35:00   3.751862\n",
       "5311  2014-07-25 08:40:00   0.000000\n",
       "5312  2014-07-25 08:45:00  15.505864\n",
       "5313  2014-07-25 08:50:00   1.397614\n",
       "5314  2014-07-25 08:55:00   0.000000\n",
       "\n",
       "[5315 rows x 2 columns]"
      ]
     },
     "execution_count": 462,
     "metadata": {},
     "output_type": "execute_result"
    }
   ],
   "source": [
    "data"
   ]
  },
  {
   "cell_type": "markdown",
   "metadata": {},
   "source": [
    "So, I think one of the first things we need to consider is the previous value. That will make something like a spike more detectable, and maybe then we can use some Gaussian. Other things that will likely be useful may be Z scores away from the mean (probably zero-ish, but I need to check). IQR may also be applicable, but I want to see where the mean will fall. Reason being, if we have a massively lopsided distribution, as I expect, it may be inappropriate. Really, this will probably be gamma distributed, and it feels like it may be remiss to drop out the zeros so early. "
   ]
  },
  {
   "cell_type": "code",
   "execution_count": 463,
   "metadata": {},
   "outputs": [],
   "source": [
    "data['prev'] = 0\n",
    "t = data['value'].to_list()\n",
    "a = [0]\n",
    "for i in range(1,len(t)):\n",
    "    a.append(t[i-1])"
   ]
  },
  {
   "cell_type": "code",
   "execution_count": 464,
   "metadata": {},
   "outputs": [],
   "source": [
    "data['prev'] = a"
   ]
  },
  {
   "cell_type": "code",
   "execution_count": 465,
   "metadata": {},
   "outputs": [],
   "source": [
    "data['prev_2'] = 0\n",
    "t = data['value'].to_list()\n",
    "a = [0,0]\n",
    "for i in range(2,len(t)):\n",
    "    a.append(t[i-2])\n",
    "    \n",
    "data['prev'] = a\n",
    "\n",
    "data['prev_3'] = 0\n",
    "a = [0,0,0]\n",
    "for i in range(3,len(t)):\n",
    "    a.append(t[i-3])\n",
    "    \n",
    "data['prev'] = a\n",
    "\n",
    "data['last_5_mean'] = 0\n",
    "a = [0,0,0,0,0]\n",
    "\n",
    "for i in range(5,len(t)):\n",
    "    m = []\n",
    "    for y in range(1,6):\n",
    "        m.append(t[i-y])\n",
    "    sm = sum(m)/5.0\n",
    "    a.append(sm)\n",
    "\n",
    "data['last_5_mean'] = a"
   ]
  },
  {
   "cell_type": "code",
   "execution_count": null,
   "metadata": {},
   "outputs": [],
   "source": []
  },
  {
   "cell_type": "code",
   "execution_count": 466,
   "metadata": {},
   "outputs": [],
   "source": [
    "stdev = data['value'].std(ddof=0) #We dont need to do the N-1 divisor, because we have the entire population"
   ]
  },
  {
   "cell_type": "code",
   "execution_count": 467,
   "metadata": {},
   "outputs": [],
   "source": [
    "mean = data['value'].mean()"
   ]
  },
  {
   "cell_type": "code",
   "execution_count": 468,
   "metadata": {},
   "outputs": [
    {
     "data": {
      "text/plain": [
       "0.4882717367253058"
      ]
     },
     "execution_count": 468,
     "metadata": {},
     "output_type": "execute_result"
    }
   ],
   "source": [
    "mean"
   ]
  },
  {
   "cell_type": "code",
   "execution_count": 469,
   "metadata": {},
   "outputs": [
    {
     "data": {
      "text/plain": [
       "5.370232890037972"
      ]
     },
     "execution_count": 469,
     "metadata": {},
     "output_type": "execute_result"
    }
   ],
   "source": [
    "stdev"
   ]
  },
  {
   "cell_type": "code",
   "execution_count": 470,
   "metadata": {},
   "outputs": [],
   "source": [
    "data['z'] = data['value'].apply(lambda x: (x - mean)/stdev)"
   ]
  },
  {
   "cell_type": "code",
   "execution_count": 471,
   "metadata": {},
   "outputs": [
    {
     "data": {
      "text/html": [
       "<div>\n",
       "<style scoped>\n",
       "    .dataframe tbody tr th:only-of-type {\n",
       "        vertical-align: middle;\n",
       "    }\n",
       "\n",
       "    .dataframe tbody tr th {\n",
       "        vertical-align: top;\n",
       "    }\n",
       "\n",
       "    .dataframe thead th {\n",
       "        text-align: right;\n",
       "    }\n",
       "</style>\n",
       "<table border=\"1\" class=\"dataframe\">\n",
       "  <thead>\n",
       "    <tr style=\"text-align: right;\">\n",
       "      <th></th>\n",
       "      <th>timestamp</th>\n",
       "      <th>value</th>\n",
       "      <th>prev</th>\n",
       "      <th>prev_2</th>\n",
       "      <th>prev_3</th>\n",
       "      <th>last_5_mean</th>\n",
       "      <th>z</th>\n",
       "      <th>date</th>\n",
       "      <th>time</th>\n",
       "      <th>dow</th>\n",
       "      <th>hour</th>\n",
       "      <th>min</th>\n",
       "    </tr>\n",
       "  </thead>\n",
       "  <tbody>\n",
       "    <tr>\n",
       "      <td>0</td>\n",
       "      <td>2014-07-06 20:10:00</td>\n",
       "      <td>1.047256</td>\n",
       "      <td>0.000000</td>\n",
       "      <td>0</td>\n",
       "      <td>0</td>\n",
       "      <td>0.000000</td>\n",
       "      <td>0.104089</td>\n",
       "      <td>2014-07-06</td>\n",
       "      <td>20:10:00</td>\n",
       "      <td>6</td>\n",
       "      <td>20</td>\n",
       "      <td>10</td>\n",
       "    </tr>\n",
       "    <tr>\n",
       "      <td>1</td>\n",
       "      <td>2014-07-06 20:15:00</td>\n",
       "      <td>1.848031</td>\n",
       "      <td>0.000000</td>\n",
       "      <td>0</td>\n",
       "      <td>0</td>\n",
       "      <td>0.000000</td>\n",
       "      <td>0.253203</td>\n",
       "      <td>2014-07-06</td>\n",
       "      <td>20:15:00</td>\n",
       "      <td>6</td>\n",
       "      <td>20</td>\n",
       "      <td>15</td>\n",
       "    </tr>\n",
       "    <tr>\n",
       "      <td>2</td>\n",
       "      <td>2014-07-06 20:20:00</td>\n",
       "      <td>1.297892</td>\n",
       "      <td>0.000000</td>\n",
       "      <td>0</td>\n",
       "      <td>0</td>\n",
       "      <td>0.000000</td>\n",
       "      <td>0.150761</td>\n",
       "      <td>2014-07-06</td>\n",
       "      <td>20:20:00</td>\n",
       "      <td>6</td>\n",
       "      <td>20</td>\n",
       "      <td>20</td>\n",
       "    </tr>\n",
       "    <tr>\n",
       "      <td>3</td>\n",
       "      <td>2014-07-06 20:25:00</td>\n",
       "      <td>1.593151</td>\n",
       "      <td>1.047256</td>\n",
       "      <td>0</td>\n",
       "      <td>0</td>\n",
       "      <td>0.000000</td>\n",
       "      <td>0.205741</td>\n",
       "      <td>2014-07-06</td>\n",
       "      <td>20:25:00</td>\n",
       "      <td>6</td>\n",
       "      <td>20</td>\n",
       "      <td>25</td>\n",
       "    </tr>\n",
       "    <tr>\n",
       "      <td>4</td>\n",
       "      <td>2014-07-06 20:35:00</td>\n",
       "      <td>0.000000</td>\n",
       "      <td>1.848031</td>\n",
       "      <td>0</td>\n",
       "      <td>0</td>\n",
       "      <td>0.000000</td>\n",
       "      <td>-0.090922</td>\n",
       "      <td>2014-07-06</td>\n",
       "      <td>20:35:00</td>\n",
       "      <td>6</td>\n",
       "      <td>20</td>\n",
       "      <td>35</td>\n",
       "    </tr>\n",
       "    <tr>\n",
       "      <td>...</td>\n",
       "      <td>...</td>\n",
       "      <td>...</td>\n",
       "      <td>...</td>\n",
       "      <td>...</td>\n",
       "      <td>...</td>\n",
       "      <td>...</td>\n",
       "      <td>...</td>\n",
       "      <td>...</td>\n",
       "      <td>...</td>\n",
       "      <td>...</td>\n",
       "      <td>...</td>\n",
       "      <td>...</td>\n",
       "    </tr>\n",
       "    <tr>\n",
       "      <td>5310</td>\n",
       "      <td>2014-07-25 08:35:00</td>\n",
       "      <td>3.751862</td>\n",
       "      <td>1.177471</td>\n",
       "      <td>0</td>\n",
       "      <td>0</td>\n",
       "      <td>1.378668</td>\n",
       "      <td>0.607719</td>\n",
       "      <td>2014-07-25</td>\n",
       "      <td>08:35:00</td>\n",
       "      <td>4</td>\n",
       "      <td>8</td>\n",
       "      <td>35</td>\n",
       "    </tr>\n",
       "    <tr>\n",
       "      <td>5311</td>\n",
       "      <td>2014-07-25 08:40:00</td>\n",
       "      <td>0.000000</td>\n",
       "      <td>2.992705</td>\n",
       "      <td>0</td>\n",
       "      <td>0</td>\n",
       "      <td>1.983836</td>\n",
       "      <td>-0.090922</td>\n",
       "      <td>2014-07-25</td>\n",
       "      <td>08:40:00</td>\n",
       "      <td>4</td>\n",
       "      <td>8</td>\n",
       "      <td>40</td>\n",
       "    </tr>\n",
       "    <tr>\n",
       "      <td>5312</td>\n",
       "      <td>2014-07-25 08:45:00</td>\n",
       "      <td>15.505864</td>\n",
       "      <td>0.992360</td>\n",
       "      <td>0</td>\n",
       "      <td>0</td>\n",
       "      <td>1.782880</td>\n",
       "      <td>2.796451</td>\n",
       "      <td>2014-07-25</td>\n",
       "      <td>08:45:00</td>\n",
       "      <td>4</td>\n",
       "      <td>8</td>\n",
       "      <td>45</td>\n",
       "    </tr>\n",
       "    <tr>\n",
       "      <td>5313</td>\n",
       "      <td>2014-07-25 08:50:00</td>\n",
       "      <td>1.397614</td>\n",
       "      <td>3.751862</td>\n",
       "      <td>0</td>\n",
       "      <td>0</td>\n",
       "      <td>4.648558</td>\n",
       "      <td>0.169330</td>\n",
       "      <td>2014-07-25</td>\n",
       "      <td>08:50:00</td>\n",
       "      <td>4</td>\n",
       "      <td>8</td>\n",
       "      <td>50</td>\n",
       "    </tr>\n",
       "    <tr>\n",
       "      <td>5314</td>\n",
       "      <td>2014-07-25 08:55:00</td>\n",
       "      <td>0.000000</td>\n",
       "      <td>0.000000</td>\n",
       "      <td>0</td>\n",
       "      <td>0</td>\n",
       "      <td>4.329540</td>\n",
       "      <td>-0.090922</td>\n",
       "      <td>2014-07-25</td>\n",
       "      <td>08:55:00</td>\n",
       "      <td>4</td>\n",
       "      <td>8</td>\n",
       "      <td>55</td>\n",
       "    </tr>\n",
       "  </tbody>\n",
       "</table>\n",
       "<p>5315 rows × 12 columns</p>\n",
       "</div>"
      ],
      "text/plain": [
       "                timestamp      value      prev  prev_2  prev_3  last_5_mean  \\\n",
       "0     2014-07-06 20:10:00   1.047256  0.000000       0       0     0.000000   \n",
       "1     2014-07-06 20:15:00   1.848031  0.000000       0       0     0.000000   \n",
       "2     2014-07-06 20:20:00   1.297892  0.000000       0       0     0.000000   \n",
       "3     2014-07-06 20:25:00   1.593151  1.047256       0       0     0.000000   \n",
       "4     2014-07-06 20:35:00   0.000000  1.848031       0       0     0.000000   \n",
       "...                   ...        ...       ...     ...     ...          ...   \n",
       "5310  2014-07-25 08:35:00   3.751862  1.177471       0       0     1.378668   \n",
       "5311  2014-07-25 08:40:00   0.000000  2.992705       0       0     1.983836   \n",
       "5312  2014-07-25 08:45:00  15.505864  0.992360       0       0     1.782880   \n",
       "5313  2014-07-25 08:50:00   1.397614  3.751862       0       0     4.648558   \n",
       "5314  2014-07-25 08:55:00   0.000000  0.000000       0       0     4.329540   \n",
       "\n",
       "             z        date      time  dow  hour  min  \n",
       "0     0.104089  2014-07-06  20:10:00    6    20   10  \n",
       "1     0.253203  2014-07-06  20:15:00    6    20   15  \n",
       "2     0.150761  2014-07-06  20:20:00    6    20   20  \n",
       "3     0.205741  2014-07-06  20:25:00    6    20   25  \n",
       "4    -0.090922  2014-07-06  20:35:00    6    20   35  \n",
       "...        ...         ...       ...  ...   ...  ...  \n",
       "5310  0.607719  2014-07-25  08:35:00    4     8   35  \n",
       "5311 -0.090922  2014-07-25  08:40:00    4     8   40  \n",
       "5312  2.796451  2014-07-25  08:45:00    4     8   45  \n",
       "5313  0.169330  2014-07-25  08:50:00    4     8   50  \n",
       "5314 -0.090922  2014-07-25  08:55:00    4     8   55  \n",
       "\n",
       "[5315 rows x 12 columns]"
      ]
     },
     "execution_count": 471,
     "metadata": {},
     "output_type": "execute_result"
    }
   ],
   "source": [
    "##Some minor forecast style feature analysis\n",
    "data['date'] = data['timestamp'].apply(lambda x: x.split(\" \")[0])\n",
    "data['time'] = data['timestamp'].apply(lambda x: x.split(\" \")[1])\n",
    "data['dow'] = data['date'].apply(lambda x: pd.Period(x).dayofweek)\n",
    "data['hour'] = data['time'].apply(lambda x: int(x.split(\":\")[0]))\n",
    "data['min'] = data['time'].apply(lambda x: int(x.split(\":\")[1]))\n",
    "#data['sec'] = data['time'].apply(lambda x: int(x.split(\":\")[2])) ##This are minutely updates I believe, as they are all zero\n",
    "\n",
    "data"
   ]
  },
  {
   "cell_type": "code",
   "execution_count": 472,
   "metadata": {},
   "outputs": [],
   "source": [
    "data = data.drop(['timestamp'], axis=1)"
   ]
  },
  {
   "cell_type": "code",
   "execution_count": 473,
   "metadata": {},
   "outputs": [
    {
     "data": {
      "text/plain": [
       "[<matplotlib.lines.Line2D at 0x7fba5b3beb90>]"
      ]
     },
     "execution_count": 473,
     "metadata": {},
     "output_type": "execute_result"
    },
    {
     "data": {
      "image/png": "[encoded data removed]",
      "text/plain": [
       "<Figure size 432x288 with 1 Axes>"
      ]
     },
     "metadata": {
      "needs_background": "light"
     },
     "output_type": "display_data"
    }
   ],
   "source": [
    "plt.plot(data['value'])"
   ]
  },
  {
   "cell_type": "markdown",
   "metadata": {},
   "source": [
    "Look at those spikes! That is a lot of key switching. Probably bot of some sort on some of those."
   ]
  },
  {
   "cell_type": "markdown",
   "metadata": {},
   "source": [
    "Let's export for some faceting. What I really want to see here is how informative the prior value is"
   ]
  },
  {
   "cell_type": "code",
   "execution_count": 474,
   "metadata": {},
   "outputs": [
    {
     "data": {
      "text/plain": [
       "<matplotlib.axes._subplots.AxesSubplot at 0x7fba597542d0>"
      ]
     },
     "execution_count": 474,
     "metadata": {},
     "output_type": "execute_result"
    },
    {
     "data": {
      "image/png": "[encoded data removed]",
      "text/plain": [
       "<Figure size 432x288 with 1 Axes>"
      ]
     },
     "metadata": {
      "needs_background": "light"
     },
     "output_type": "display_data"
    }
   ],
   "source": [
    "data['z'].plot()"
   ]
  },
  {
   "cell_type": "code",
   "execution_count": 475,
   "metadata": {},
   "outputs": [],
   "source": [
    "data.to_csv(\"data.csv\") ##Let's export for faceting"
   ]
  },
  {
   "cell_type": "code",
   "execution_count": 476,
   "metadata": {},
   "outputs": [
    {
     "data": {
      "text/html": [
       "<div>\n",
       "<style scoped>\n",
       "    .dataframe tbody tr th:only-of-type {\n",
       "        vertical-align: middle;\n",
       "    }\n",
       "\n",
       "    .dataframe tbody tr th {\n",
       "        vertical-align: top;\n",
       "    }\n",
       "\n",
       "    .dataframe thead th {\n",
       "        text-align: right;\n",
       "    }\n",
       "</style>\n",
       "<table border=\"1\" class=\"dataframe\">\n",
       "  <thead>\n",
       "    <tr style=\"text-align: right;\">\n",
       "      <th></th>\n",
       "      <th>value</th>\n",
       "      <th>prev</th>\n",
       "      <th>prev_2</th>\n",
       "      <th>prev_3</th>\n",
       "      <th>last_5_mean</th>\n",
       "      <th>z</th>\n",
       "      <th>dow</th>\n",
       "      <th>hour</th>\n",
       "      <th>min</th>\n",
       "    </tr>\n",
       "  </thead>\n",
       "  <tbody>\n",
       "    <tr>\n",
       "      <td>value</td>\n",
       "      <td>1.000000</td>\n",
       "      <td>0.021971</td>\n",
       "      <td>NaN</td>\n",
       "      <td>NaN</td>\n",
       "      <td>0.067762</td>\n",
       "      <td>1.000000</td>\n",
       "      <td>-0.024861</td>\n",
       "      <td>0.033181</td>\n",
       "      <td>0.022127</td>\n",
       "    </tr>\n",
       "    <tr>\n",
       "      <td>prev</td>\n",
       "      <td>0.021971</td>\n",
       "      <td>1.000000</td>\n",
       "      <td>NaN</td>\n",
       "      <td>NaN</td>\n",
       "      <td>0.493418</td>\n",
       "      <td>0.021971</td>\n",
       "      <td>-0.025155</td>\n",
       "      <td>0.036426</td>\n",
       "      <td>0.011845</td>\n",
       "    </tr>\n",
       "    <tr>\n",
       "      <td>prev_2</td>\n",
       "      <td>NaN</td>\n",
       "      <td>NaN</td>\n",
       "      <td>NaN</td>\n",
       "      <td>NaN</td>\n",
       "      <td>NaN</td>\n",
       "      <td>NaN</td>\n",
       "      <td>NaN</td>\n",
       "      <td>NaN</td>\n",
       "      <td>NaN</td>\n",
       "    </tr>\n",
       "    <tr>\n",
       "      <td>prev_3</td>\n",
       "      <td>NaN</td>\n",
       "      <td>NaN</td>\n",
       "      <td>NaN</td>\n",
       "      <td>NaN</td>\n",
       "      <td>NaN</td>\n",
       "      <td>NaN</td>\n",
       "      <td>NaN</td>\n",
       "      <td>NaN</td>\n",
       "      <td>NaN</td>\n",
       "    </tr>\n",
       "    <tr>\n",
       "      <td>last_5_mean</td>\n",
       "      <td>0.067762</td>\n",
       "      <td>0.493418</td>\n",
       "      <td>NaN</td>\n",
       "      <td>NaN</td>\n",
       "      <td>1.000000</td>\n",
       "      <td>0.067762</td>\n",
       "      <td>-0.052198</td>\n",
       "      <td>0.075309</td>\n",
       "      <td>0.005092</td>\n",
       "    </tr>\n",
       "    <tr>\n",
       "      <td>z</td>\n",
       "      <td>1.000000</td>\n",
       "      <td>0.021971</td>\n",
       "      <td>NaN</td>\n",
       "      <td>NaN</td>\n",
       "      <td>0.067762</td>\n",
       "      <td>1.000000</td>\n",
       "      <td>-0.024861</td>\n",
       "      <td>0.033181</td>\n",
       "      <td>0.022127</td>\n",
       "    </tr>\n",
       "    <tr>\n",
       "      <td>dow</td>\n",
       "      <td>-0.024861</td>\n",
       "      <td>-0.025155</td>\n",
       "      <td>NaN</td>\n",
       "      <td>NaN</td>\n",
       "      <td>-0.052198</td>\n",
       "      <td>-0.024861</td>\n",
       "      <td>1.000000</td>\n",
       "      <td>0.006955</td>\n",
       "      <td>0.001144</td>\n",
       "    </tr>\n",
       "    <tr>\n",
       "      <td>hour</td>\n",
       "      <td>0.033181</td>\n",
       "      <td>0.036426</td>\n",
       "      <td>NaN</td>\n",
       "      <td>NaN</td>\n",
       "      <td>0.075309</td>\n",
       "      <td>0.033181</td>\n",
       "      <td>0.006955</td>\n",
       "      <td>1.000000</td>\n",
       "      <td>-0.000661</td>\n",
       "    </tr>\n",
       "    <tr>\n",
       "      <td>min</td>\n",
       "      <td>0.022127</td>\n",
       "      <td>0.011845</td>\n",
       "      <td>NaN</td>\n",
       "      <td>NaN</td>\n",
       "      <td>0.005092</td>\n",
       "      <td>0.022127</td>\n",
       "      <td>0.001144</td>\n",
       "      <td>-0.000661</td>\n",
       "      <td>1.000000</td>\n",
       "    </tr>\n",
       "  </tbody>\n",
       "</table>\n",
       "</div>"
      ],
      "text/plain": [
       "                value      prev  prev_2  prev_3  last_5_mean         z  \\\n",
       "value        1.000000  0.021971     NaN     NaN     0.067762  1.000000   \n",
       "prev         0.021971  1.000000     NaN     NaN     0.493418  0.021971   \n",
       "prev_2            NaN       NaN     NaN     NaN          NaN       NaN   \n",
       "prev_3            NaN       NaN     NaN     NaN          NaN       NaN   \n",
       "last_5_mean  0.067762  0.493418     NaN     NaN     1.000000  0.067762   \n",
       "z            1.000000  0.021971     NaN     NaN     0.067762  1.000000   \n",
       "dow         -0.024861 -0.025155     NaN     NaN    -0.052198 -0.024861   \n",
       "hour         0.033181  0.036426     NaN     NaN     0.075309  0.033181   \n",
       "min          0.022127  0.011845     NaN     NaN     0.005092  0.022127   \n",
       "\n",
       "                  dow      hour       min  \n",
       "value       -0.024861  0.033181  0.022127  \n",
       "prev        -0.025155  0.036426  0.011845  \n",
       "prev_2            NaN       NaN       NaN  \n",
       "prev_3            NaN       NaN       NaN  \n",
       "last_5_mean -0.052198  0.075309  0.005092  \n",
       "z           -0.024861  0.033181  0.022127  \n",
       "dow          1.000000  0.006955  0.001144  \n",
       "hour         0.006955  1.000000 -0.000661  \n",
       "min          0.001144 -0.000661  1.000000  "
      ]
     },
     "execution_count": 476,
     "metadata": {},
     "output_type": "execute_result"
    }
   ],
   "source": [
    "data.corr()"
   ]
  },
  {
   "cell_type": "markdown",
   "metadata": {},
   "source": [
    "It's easier to see in the facetting screenshots, but there is what appears to be some bias towards later hours for the high keypress events, implying perhaps some sort of nefarious activities when say, hostile foreign powers are at their workdays, or when whatever actors are engaging in such things expect the admins to be sleeping. Although, depending on the nature of the faceting, this only appears to be relative to the Z score itself with respect to time, not the distribution of high value events. That means doing time analysis is likely futile for this, unless I could do a deep ARIMA style projection. Other temporal factors seem evenly distributed\n",
    "\n",
    "With this in mind, I think Naive Bays may be a useful measure here, since we are looking for events that go over some threshold against the distribution. May try to use Z measures as well. Lastly, I will try isolation forests because they're cool."
   ]
  },
  {
   "cell_type": "code",
   "execution_count": 477,
   "metadata": {},
   "outputs": [],
   "source": [
    "from sklearn.naive_bayes import GaussianNB ##I didnt see a Gamma distribution option\n",
    "from sklearn.ensemble import IsolationForest"
   ]
  },
  {
   "cell_type": "markdown",
   "metadata": {},
   "source": [
    "Just for a rough idea, lets do some binning!"
   ]
  },
  {
   "cell_type": "code",
   "execution_count": 478,
   "metadata": {},
   "outputs": [],
   "source": [
    "binned = round(data['z'])"
   ]
  },
  {
   "cell_type": "code",
   "execution_count": 479,
   "metadata": {},
   "outputs": [
    {
     "data": {
      "text/plain": [
       "0.0     5189\n",
       "1.0       66\n",
       "2.0       30\n",
       "3.0        8\n",
       "4.0        6\n",
       "7.0        3\n",
       "9.0        3\n",
       "5.0        2\n",
       "14.0       2\n",
       "27.0       1\n",
       "54.0       1\n",
       "6.0        1\n",
       "10.0       1\n",
       "8.0        1\n",
       "16.0       1\n",
       "Name: z, dtype: int64"
      ]
     },
     "execution_count": 479,
     "metadata": {},
     "output_type": "execute_result"
    }
   ],
   "source": [
    "binned.value_counts()"
   ]
  },
  {
   "cell_type": "markdown",
   "metadata": {},
   "source": [
    "Look at that distribution. I could be paranoid and say anything above 1 stdev is suspicious, but let's bring some elegance to this."
   ]
  },
  {
   "cell_type": "code",
   "execution_count": 480,
   "metadata": {},
   "outputs": [],
   "source": [
    "c = []\n",
    "g1 = data[data['z'] >= 1]\n",
    "c.append(len(g1))\n",
    "g2 = data[data['z'] >= 2]\n",
    "c.append(len(g2))\n",
    "g3 = data[data['z'] >= 3]\n",
    "c.append(len(g3))\n",
    "g4 = data[data['z'] >= 4]\n",
    "c.append(len(g4))\n",
    "g5 = data[data['z'] >= 5]\n",
    "c.append(len(g5))\n",
    "g6 = data[data['z'] >= 6]\n",
    "c.append(len(g6))\n",
    "g7 = data[data['z'] >= 7]\n",
    "c.append(len(g7))\n",
    "g8 = data[data['z'] >= 8]\n",
    "c.append(len(g8))\n",
    "g9 = data[data['z'] >= 9]\n",
    "c.append(len(g9))\n",
    "g10 = data[data['z'] >= 10]\n",
    "c.append(len(g10))\n",
    "g11 = data[data['z'] >= 11]\n",
    "c.append(len(g11))\n",
    "g12 = data[data['z'] >= 12]\n",
    "c.append(len(g12))\n",
    "g13 = data[data['z'] >= 13]\n",
    "c.append(len(g13))"
   ]
  },
  {
   "cell_type": "code",
   "execution_count": 481,
   "metadata": {},
   "outputs": [
    {
     "data": {
      "text/plain": [
       "[<matplotlib.lines.Line2D at 0x7fba59ba6ed0>]"
      ]
     },
     "execution_count": 481,
     "metadata": {},
     "output_type": "execute_result"
    },
    {
     "data": {
      "image/png": "[encoded data removed]",
      "text/plain": [
       "<Figure size 432x288 with 1 Axes>"
      ]
     },
     "metadata": {
      "needs_background": "light"
     },
     "output_type": "display_data"
    }
   ],
   "source": [
    "plt.plot(c) ## Z cutoff critera and how many get captured at each"
   ]
  },
  {
   "cell_type": "code",
   "execution_count": 482,
   "metadata": {},
   "outputs": [
    {
     "data": {
      "text/plain": [
       "(array([0.85468451, 0.05258126, 0.01147228, 0.00573614, 0.00191205,\n",
       "        0.00382409, 0.00382409, 0.00382409, 0.00382409, 0.00191205,\n",
       "        0.        , 0.        , 0.00191205, 0.00191205]),\n",
       " array([ 0,  1,  3,  4,  5,  6,  7,  8,  9, 10, 11, 12, 13, 14, 15]),\n",
       " <a list of 14 Patch objects>)"
      ]
     },
     "execution_count": 482,
     "metadata": {},
     "output_type": "execute_result"
    },
    {
     "data": {
      "image/png": "[encoded data removed]",
      "text/plain": [
       "<Figure size 432x288 with 1 Axes>"
      ]
     },
     "metadata": {
      "needs_background": "light"
     },
     "output_type": "display_data"
    }
   ],
   "source": [
    "plt.hist(data['z'], bins=[0,1,3,4,5,6,7,8,9,10,11,12,13,14,15], density=True)"
   ]
  },
  {
   "cell_type": "markdown",
   "metadata": {},
   "source": [
    "There's just one problem here, we don't have a finite definition for what the actual intrusions are, so this really does come down to our thresholds."
   ]
  },
  {
   "cell_type": "markdown",
   "metadata": {},
   "source": [
    "Let's try another view"
   ]
  },
  {
   "cell_type": "code",
   "execution_count": 483,
   "metadata": {},
   "outputs": [],
   "source": [
    "nozeroes = data[data['value'] > 0]"
   ]
  },
  {
   "cell_type": "code",
   "execution_count": 484,
   "metadata": {},
   "outputs": [
    {
     "data": {
      "text/html": [
       "<div>\n",
       "<style scoped>\n",
       "    .dataframe tbody tr th:only-of-type {\n",
       "        vertical-align: middle;\n",
       "    }\n",
       "\n",
       "    .dataframe tbody tr th {\n",
       "        vertical-align: top;\n",
       "    }\n",
       "\n",
       "    .dataframe thead th {\n",
       "        text-align: right;\n",
       "    }\n",
       "</style>\n",
       "<table border=\"1\" class=\"dataframe\">\n",
       "  <thead>\n",
       "    <tr style=\"text-align: right;\">\n",
       "      <th></th>\n",
       "      <th>value</th>\n",
       "      <th>prev</th>\n",
       "      <th>prev_2</th>\n",
       "      <th>prev_3</th>\n",
       "      <th>last_5_mean</th>\n",
       "      <th>z</th>\n",
       "      <th>date</th>\n",
       "      <th>time</th>\n",
       "      <th>dow</th>\n",
       "      <th>hour</th>\n",
       "      <th>min</th>\n",
       "    </tr>\n",
       "  </thead>\n",
       "  <tbody>\n",
       "    <tr>\n",
       "      <td>0</td>\n",
       "      <td>1.047256</td>\n",
       "      <td>0.000000</td>\n",
       "      <td>0</td>\n",
       "      <td>0</td>\n",
       "      <td>0.000000</td>\n",
       "      <td>0.104089</td>\n",
       "      <td>2014-07-06</td>\n",
       "      <td>20:10:00</td>\n",
       "      <td>6</td>\n",
       "      <td>20</td>\n",
       "      <td>10</td>\n",
       "    </tr>\n",
       "    <tr>\n",
       "      <td>1</td>\n",
       "      <td>1.848031</td>\n",
       "      <td>0.000000</td>\n",
       "      <td>0</td>\n",
       "      <td>0</td>\n",
       "      <td>0.000000</td>\n",
       "      <td>0.253203</td>\n",
       "      <td>2014-07-06</td>\n",
       "      <td>20:15:00</td>\n",
       "      <td>6</td>\n",
       "      <td>20</td>\n",
       "      <td>15</td>\n",
       "    </tr>\n",
       "    <tr>\n",
       "      <td>2</td>\n",
       "      <td>1.297892</td>\n",
       "      <td>0.000000</td>\n",
       "      <td>0</td>\n",
       "      <td>0</td>\n",
       "      <td>0.000000</td>\n",
       "      <td>0.150761</td>\n",
       "      <td>2014-07-06</td>\n",
       "      <td>20:20:00</td>\n",
       "      <td>6</td>\n",
       "      <td>20</td>\n",
       "      <td>20</td>\n",
       "    </tr>\n",
       "    <tr>\n",
       "      <td>3</td>\n",
       "      <td>1.593151</td>\n",
       "      <td>1.047256</td>\n",
       "      <td>0</td>\n",
       "      <td>0</td>\n",
       "      <td>0.000000</td>\n",
       "      <td>0.205741</td>\n",
       "      <td>2014-07-06</td>\n",
       "      <td>20:25:00</td>\n",
       "      <td>6</td>\n",
       "      <td>20</td>\n",
       "      <td>25</td>\n",
       "    </tr>\n",
       "    <tr>\n",
       "      <td>8</td>\n",
       "      <td>0.899701</td>\n",
       "      <td>0.000000</td>\n",
       "      <td>0</td>\n",
       "      <td>0</td>\n",
       "      <td>0.318630</td>\n",
       "      <td>0.076613</td>\n",
       "      <td>2014-07-06</td>\n",
       "      <td>20:55:00</td>\n",
       "      <td>6</td>\n",
       "      <td>20</td>\n",
       "      <td>55</td>\n",
       "    </tr>\n",
       "    <tr>\n",
       "      <td>...</td>\n",
       "      <td>...</td>\n",
       "      <td>...</td>\n",
       "      <td>...</td>\n",
       "      <td>...</td>\n",
       "      <td>...</td>\n",
       "      <td>...</td>\n",
       "      <td>...</td>\n",
       "      <td>...</td>\n",
       "      <td>...</td>\n",
       "      <td>...</td>\n",
       "      <td>...</td>\n",
       "    </tr>\n",
       "    <tr>\n",
       "      <td>5308</td>\n",
       "      <td>2.992705</td>\n",
       "      <td>0.726020</td>\n",
       "      <td>0</td>\n",
       "      <td>0</td>\n",
       "      <td>1.846922</td>\n",
       "      <td>0.466355</td>\n",
       "      <td>2014-07-25</td>\n",
       "      <td>08:25:00</td>\n",
       "      <td>4</td>\n",
       "      <td>8</td>\n",
       "      <td>25</td>\n",
       "    </tr>\n",
       "    <tr>\n",
       "      <td>5309</td>\n",
       "      <td>0.992360</td>\n",
       "      <td>1.004782</td>\n",
       "      <td>0</td>\n",
       "      <td>0</td>\n",
       "      <td>2.445463</td>\n",
       "      <td>0.093867</td>\n",
       "      <td>2014-07-25</td>\n",
       "      <td>08:30:00</td>\n",
       "      <td>4</td>\n",
       "      <td>8</td>\n",
       "      <td>30</td>\n",
       "    </tr>\n",
       "    <tr>\n",
       "      <td>5310</td>\n",
       "      <td>3.751862</td>\n",
       "      <td>1.177471</td>\n",
       "      <td>0</td>\n",
       "      <td>0</td>\n",
       "      <td>1.378668</td>\n",
       "      <td>0.607719</td>\n",
       "      <td>2014-07-25</td>\n",
       "      <td>08:35:00</td>\n",
       "      <td>4</td>\n",
       "      <td>8</td>\n",
       "      <td>35</td>\n",
       "    </tr>\n",
       "    <tr>\n",
       "      <td>5312</td>\n",
       "      <td>15.505864</td>\n",
       "      <td>0.992360</td>\n",
       "      <td>0</td>\n",
       "      <td>0</td>\n",
       "      <td>1.782880</td>\n",
       "      <td>2.796451</td>\n",
       "      <td>2014-07-25</td>\n",
       "      <td>08:45:00</td>\n",
       "      <td>4</td>\n",
       "      <td>8</td>\n",
       "      <td>45</td>\n",
       "    </tr>\n",
       "    <tr>\n",
       "      <td>5313</td>\n",
       "      <td>1.397614</td>\n",
       "      <td>3.751862</td>\n",
       "      <td>0</td>\n",
       "      <td>0</td>\n",
       "      <td>4.648558</td>\n",
       "      <td>0.169330</td>\n",
       "      <td>2014-07-25</td>\n",
       "      <td>08:50:00</td>\n",
       "      <td>4</td>\n",
       "      <td>8</td>\n",
       "      <td>50</td>\n",
       "    </tr>\n",
       "  </tbody>\n",
       "</table>\n",
       "<p>568 rows × 11 columns</p>\n",
       "</div>"
      ],
      "text/plain": [
       "          value      prev  prev_2  prev_3  last_5_mean         z        date  \\\n",
       "0      1.047256  0.000000       0       0     0.000000  0.104089  2014-07-06   \n",
       "1      1.848031  0.000000       0       0     0.000000  0.253203  2014-07-06   \n",
       "2      1.297892  0.000000       0       0     0.000000  0.150761  2014-07-06   \n",
       "3      1.593151  1.047256       0       0     0.000000  0.205741  2014-07-06   \n",
       "8      0.899701  0.000000       0       0     0.318630  0.076613  2014-07-06   \n",
       "...         ...       ...     ...     ...          ...       ...         ...   \n",
       "5308   2.992705  0.726020       0       0     1.846922  0.466355  2014-07-25   \n",
       "5309   0.992360  1.004782       0       0     2.445463  0.093867  2014-07-25   \n",
       "5310   3.751862  1.177471       0       0     1.378668  0.607719  2014-07-25   \n",
       "5312  15.505864  0.992360       0       0     1.782880  2.796451  2014-07-25   \n",
       "5313   1.397614  3.751862       0       0     4.648558  0.169330  2014-07-25   \n",
       "\n",
       "          time  dow  hour  min  \n",
       "0     20:10:00    6    20   10  \n",
       "1     20:15:00    6    20   15  \n",
       "2     20:20:00    6    20   20  \n",
       "3     20:25:00    6    20   25  \n",
       "8     20:55:00    6    20   55  \n",
       "...        ...  ...   ...  ...  \n",
       "5308  08:25:00    4     8   25  \n",
       "5309  08:30:00    4     8   30  \n",
       "5310  08:35:00    4     8   35  \n",
       "5312  08:45:00    4     8   45  \n",
       "5313  08:50:00    4     8   50  \n",
       "\n",
       "[568 rows x 11 columns]"
      ]
     },
     "execution_count": 484,
     "metadata": {},
     "output_type": "execute_result"
    }
   ],
   "source": [
    "nozeroes"
   ]
  },
  {
   "cell_type": "code",
   "execution_count": 485,
   "metadata": {},
   "outputs": [],
   "source": [
    "nozeroes_mean = nozeroes['value'].mean()\n",
    "nozeroes_stdev = nozeroes['value'].std()"
   ]
  },
  {
   "cell_type": "code",
   "execution_count": 486,
   "metadata": {},
   "outputs": [
    {
     "data": {
      "text/plain": [
       "4.56895119840669"
      ]
     },
     "execution_count": 486,
     "metadata": {},
     "output_type": "execute_result"
    }
   ],
   "source": [
    "nozeroes_mean"
   ]
  },
  {
   "cell_type": "code",
   "execution_count": 487,
   "metadata": {},
   "outputs": [
    {
     "data": {
      "text/plain": [
       "15.863804391115817"
      ]
     },
     "execution_count": 487,
     "metadata": {},
     "output_type": "execute_result"
    }
   ],
   "source": [
    "nozeroes_stdev"
   ]
  },
  {
   "cell_type": "markdown",
   "metadata": {},
   "source": [
    "This will probably give a more specific (if maybe less sensitive) basic stat array for the values. Reason being, most entries are zeros, meaning the average is artificially low. There are of course, completely legitimate uses so there may be mini spikes that are just normal use. We want the anomolies that we do detect to be ones that are truly significant, not measured against a zero value, so taking the average of the non zeroes is probably going to normalize the usage a bit in a useful way."
   ]
  },
  {
   "cell_type": "code",
   "execution_count": 488,
   "metadata": {},
   "outputs": [],
   "source": [
    "data['normed_z'] = data['value'].apply(lambda x: (x-nozeroes_mean)/nozeroes_stdev)"
   ]
  },
  {
   "cell_type": "code",
   "execution_count": 489,
   "metadata": {},
   "outputs": [
    {
     "data": {
      "text/html": [
       "<div>\n",
       "<style scoped>\n",
       "    .dataframe tbody tr th:only-of-type {\n",
       "        vertical-align: middle;\n",
       "    }\n",
       "\n",
       "    .dataframe tbody tr th {\n",
       "        vertical-align: top;\n",
       "    }\n",
       "\n",
       "    .dataframe thead th {\n",
       "        text-align: right;\n",
       "    }\n",
       "</style>\n",
       "<table border=\"1\" class=\"dataframe\">\n",
       "  <thead>\n",
       "    <tr style=\"text-align: right;\">\n",
       "      <th></th>\n",
       "      <th>value</th>\n",
       "      <th>prev</th>\n",
       "      <th>prev_2</th>\n",
       "      <th>prev_3</th>\n",
       "      <th>last_5_mean</th>\n",
       "      <th>z</th>\n",
       "      <th>date</th>\n",
       "      <th>time</th>\n",
       "      <th>dow</th>\n",
       "      <th>hour</th>\n",
       "      <th>min</th>\n",
       "      <th>normed_z</th>\n",
       "    </tr>\n",
       "  </thead>\n",
       "  <tbody>\n",
       "    <tr>\n",
       "      <td>0</td>\n",
       "      <td>1.047256</td>\n",
       "      <td>0.000000</td>\n",
       "      <td>0</td>\n",
       "      <td>0</td>\n",
       "      <td>0.000000</td>\n",
       "      <td>0.104089</td>\n",
       "      <td>2014-07-06</td>\n",
       "      <td>20:10:00</td>\n",
       "      <td>6</td>\n",
       "      <td>20</td>\n",
       "      <td>10</td>\n",
       "      <td>-0.221996</td>\n",
       "    </tr>\n",
       "    <tr>\n",
       "      <td>1</td>\n",
       "      <td>1.848031</td>\n",
       "      <td>0.000000</td>\n",
       "      <td>0</td>\n",
       "      <td>0</td>\n",
       "      <td>0.000000</td>\n",
       "      <td>0.253203</td>\n",
       "      <td>2014-07-06</td>\n",
       "      <td>20:15:00</td>\n",
       "      <td>6</td>\n",
       "      <td>20</td>\n",
       "      <td>15</td>\n",
       "      <td>-0.171517</td>\n",
       "    </tr>\n",
       "    <tr>\n",
       "      <td>2</td>\n",
       "      <td>1.297892</td>\n",
       "      <td>0.000000</td>\n",
       "      <td>0</td>\n",
       "      <td>0</td>\n",
       "      <td>0.000000</td>\n",
       "      <td>0.150761</td>\n",
       "      <td>2014-07-06</td>\n",
       "      <td>20:20:00</td>\n",
       "      <td>6</td>\n",
       "      <td>20</td>\n",
       "      <td>20</td>\n",
       "      <td>-0.206196</td>\n",
       "    </tr>\n",
       "    <tr>\n",
       "      <td>3</td>\n",
       "      <td>1.593151</td>\n",
       "      <td>1.047256</td>\n",
       "      <td>0</td>\n",
       "      <td>0</td>\n",
       "      <td>0.000000</td>\n",
       "      <td>0.205741</td>\n",
       "      <td>2014-07-06</td>\n",
       "      <td>20:25:00</td>\n",
       "      <td>6</td>\n",
       "      <td>20</td>\n",
       "      <td>25</td>\n",
       "      <td>-0.187584</td>\n",
       "    </tr>\n",
       "    <tr>\n",
       "      <td>4</td>\n",
       "      <td>0.000000</td>\n",
       "      <td>1.848031</td>\n",
       "      <td>0</td>\n",
       "      <td>0</td>\n",
       "      <td>0.000000</td>\n",
       "      <td>-0.090922</td>\n",
       "      <td>2014-07-06</td>\n",
       "      <td>20:35:00</td>\n",
       "      <td>6</td>\n",
       "      <td>20</td>\n",
       "      <td>35</td>\n",
       "      <td>-0.288011</td>\n",
       "    </tr>\n",
       "    <tr>\n",
       "      <td>...</td>\n",
       "      <td>...</td>\n",
       "      <td>...</td>\n",
       "      <td>...</td>\n",
       "      <td>...</td>\n",
       "      <td>...</td>\n",
       "      <td>...</td>\n",
       "      <td>...</td>\n",
       "      <td>...</td>\n",
       "      <td>...</td>\n",
       "      <td>...</td>\n",
       "      <td>...</td>\n",
       "      <td>...</td>\n",
       "    </tr>\n",
       "    <tr>\n",
       "      <td>5310</td>\n",
       "      <td>3.751862</td>\n",
       "      <td>1.177471</td>\n",
       "      <td>0</td>\n",
       "      <td>0</td>\n",
       "      <td>1.378668</td>\n",
       "      <td>0.607719</td>\n",
       "      <td>2014-07-25</td>\n",
       "      <td>08:35:00</td>\n",
       "      <td>4</td>\n",
       "      <td>8</td>\n",
       "      <td>35</td>\n",
       "      <td>-0.051507</td>\n",
       "    </tr>\n",
       "    <tr>\n",
       "      <td>5311</td>\n",
       "      <td>0.000000</td>\n",
       "      <td>2.992705</td>\n",
       "      <td>0</td>\n",
       "      <td>0</td>\n",
       "      <td>1.983836</td>\n",
       "      <td>-0.090922</td>\n",
       "      <td>2014-07-25</td>\n",
       "      <td>08:40:00</td>\n",
       "      <td>4</td>\n",
       "      <td>8</td>\n",
       "      <td>40</td>\n",
       "      <td>-0.288011</td>\n",
       "    </tr>\n",
       "    <tr>\n",
       "      <td>5312</td>\n",
       "      <td>15.505864</td>\n",
       "      <td>0.992360</td>\n",
       "      <td>0</td>\n",
       "      <td>0</td>\n",
       "      <td>1.782880</td>\n",
       "      <td>2.796451</td>\n",
       "      <td>2014-07-25</td>\n",
       "      <td>08:45:00</td>\n",
       "      <td>4</td>\n",
       "      <td>8</td>\n",
       "      <td>45</td>\n",
       "      <td>0.689426</td>\n",
       "    </tr>\n",
       "    <tr>\n",
       "      <td>5313</td>\n",
       "      <td>1.397614</td>\n",
       "      <td>3.751862</td>\n",
       "      <td>0</td>\n",
       "      <td>0</td>\n",
       "      <td>4.648558</td>\n",
       "      <td>0.169330</td>\n",
       "      <td>2014-07-25</td>\n",
       "      <td>08:50:00</td>\n",
       "      <td>4</td>\n",
       "      <td>8</td>\n",
       "      <td>50</td>\n",
       "      <td>-0.199910</td>\n",
       "    </tr>\n",
       "    <tr>\n",
       "      <td>5314</td>\n",
       "      <td>0.000000</td>\n",
       "      <td>0.000000</td>\n",
       "      <td>0</td>\n",
       "      <td>0</td>\n",
       "      <td>4.329540</td>\n",
       "      <td>-0.090922</td>\n",
       "      <td>2014-07-25</td>\n",
       "      <td>08:55:00</td>\n",
       "      <td>4</td>\n",
       "      <td>8</td>\n",
       "      <td>55</td>\n",
       "      <td>-0.288011</td>\n",
       "    </tr>\n",
       "  </tbody>\n",
       "</table>\n",
       "<p>5315 rows × 12 columns</p>\n",
       "</div>"
      ],
      "text/plain": [
       "          value      prev  prev_2  prev_3  last_5_mean         z        date  \\\n",
       "0      1.047256  0.000000       0       0     0.000000  0.104089  2014-07-06   \n",
       "1      1.848031  0.000000       0       0     0.000000  0.253203  2014-07-06   \n",
       "2      1.297892  0.000000       0       0     0.000000  0.150761  2014-07-06   \n",
       "3      1.593151  1.047256       0       0     0.000000  0.205741  2014-07-06   \n",
       "4      0.000000  1.848031       0       0     0.000000 -0.090922  2014-07-06   \n",
       "...         ...       ...     ...     ...          ...       ...         ...   \n",
       "5310   3.751862  1.177471       0       0     1.378668  0.607719  2014-07-25   \n",
       "5311   0.000000  2.992705       0       0     1.983836 -0.090922  2014-07-25   \n",
       "5312  15.505864  0.992360       0       0     1.782880  2.796451  2014-07-25   \n",
       "5313   1.397614  3.751862       0       0     4.648558  0.169330  2014-07-25   \n",
       "5314   0.000000  0.000000       0       0     4.329540 -0.090922  2014-07-25   \n",
       "\n",
       "          time  dow  hour  min  normed_z  \n",
       "0     20:10:00    6    20   10 -0.221996  \n",
       "1     20:15:00    6    20   15 -0.171517  \n",
       "2     20:20:00    6    20   20 -0.206196  \n",
       "3     20:25:00    6    20   25 -0.187584  \n",
       "4     20:35:00    6    20   35 -0.288011  \n",
       "...        ...  ...   ...  ...       ...  \n",
       "5310  08:35:00    4     8   35 -0.051507  \n",
       "5311  08:40:00    4     8   40 -0.288011  \n",
       "5312  08:45:00    4     8   45  0.689426  \n",
       "5313  08:50:00    4     8   50 -0.199910  \n",
       "5314  08:55:00    4     8   55 -0.288011  \n",
       "\n",
       "[5315 rows x 12 columns]"
      ]
     },
     "execution_count": 489,
     "metadata": {},
     "output_type": "execute_result"
    }
   ],
   "source": [
    "data"
   ]
  },
  {
   "cell_type": "markdown",
   "metadata": {},
   "source": [
    "So let's do the IQR type thing, and make anything greater than 1.0 stdev suspicious. This will be our gold standard. Although...this could also be the model in and of itself, I suppose."
   ]
  },
  {
   "cell_type": "code",
   "execution_count": 490,
   "metadata": {},
   "outputs": [],
   "source": [
    "def sus(v):\n",
    "    if (v >= 1.0):\n",
    "        return True\n",
    "    else:\n",
    "        return False"
   ]
  },
  {
   "cell_type": "code",
   "execution_count": 491,
   "metadata": {},
   "outputs": [],
   "source": [
    "data['anomaly'] = data['normed_z'].apply(lambda x: sus(x))"
   ]
  },
  {
   "cell_type": "code",
   "execution_count": 492,
   "metadata": {},
   "outputs": [
    {
     "data": {
      "text/html": [
       "<div>\n",
       "<style scoped>\n",
       "    .dataframe tbody tr th:only-of-type {\n",
       "        vertical-align: middle;\n",
       "    }\n",
       "\n",
       "    .dataframe tbody tr th {\n",
       "        vertical-align: top;\n",
       "    }\n",
       "\n",
       "    .dataframe thead th {\n",
       "        text-align: right;\n",
       "    }\n",
       "</style>\n",
       "<table border=\"1\" class=\"dataframe\">\n",
       "  <thead>\n",
       "    <tr style=\"text-align: right;\">\n",
       "      <th></th>\n",
       "      <th>value</th>\n",
       "      <th>prev</th>\n",
       "      <th>prev_2</th>\n",
       "      <th>prev_3</th>\n",
       "      <th>last_5_mean</th>\n",
       "      <th>z</th>\n",
       "      <th>date</th>\n",
       "      <th>time</th>\n",
       "      <th>dow</th>\n",
       "      <th>hour</th>\n",
       "      <th>min</th>\n",
       "      <th>normed_z</th>\n",
       "      <th>anomaly</th>\n",
       "    </tr>\n",
       "  </thead>\n",
       "  <tbody>\n",
       "    <tr>\n",
       "      <td>0</td>\n",
       "      <td>1.047256</td>\n",
       "      <td>0.000000</td>\n",
       "      <td>0</td>\n",
       "      <td>0</td>\n",
       "      <td>0.000000</td>\n",
       "      <td>0.104089</td>\n",
       "      <td>2014-07-06</td>\n",
       "      <td>20:10:00</td>\n",
       "      <td>6</td>\n",
       "      <td>20</td>\n",
       "      <td>10</td>\n",
       "      <td>-0.221996</td>\n",
       "      <td>False</td>\n",
       "    </tr>\n",
       "    <tr>\n",
       "      <td>1</td>\n",
       "      <td>1.848031</td>\n",
       "      <td>0.000000</td>\n",
       "      <td>0</td>\n",
       "      <td>0</td>\n",
       "      <td>0.000000</td>\n",
       "      <td>0.253203</td>\n",
       "      <td>2014-07-06</td>\n",
       "      <td>20:15:00</td>\n",
       "      <td>6</td>\n",
       "      <td>20</td>\n",
       "      <td>15</td>\n",
       "      <td>-0.171517</td>\n",
       "      <td>False</td>\n",
       "    </tr>\n",
       "    <tr>\n",
       "      <td>2</td>\n",
       "      <td>1.297892</td>\n",
       "      <td>0.000000</td>\n",
       "      <td>0</td>\n",
       "      <td>0</td>\n",
       "      <td>0.000000</td>\n",
       "      <td>0.150761</td>\n",
       "      <td>2014-07-06</td>\n",
       "      <td>20:20:00</td>\n",
       "      <td>6</td>\n",
       "      <td>20</td>\n",
       "      <td>20</td>\n",
       "      <td>-0.206196</td>\n",
       "      <td>False</td>\n",
       "    </tr>\n",
       "    <tr>\n",
       "      <td>3</td>\n",
       "      <td>1.593151</td>\n",
       "      <td>1.047256</td>\n",
       "      <td>0</td>\n",
       "      <td>0</td>\n",
       "      <td>0.000000</td>\n",
       "      <td>0.205741</td>\n",
       "      <td>2014-07-06</td>\n",
       "      <td>20:25:00</td>\n",
       "      <td>6</td>\n",
       "      <td>20</td>\n",
       "      <td>25</td>\n",
       "      <td>-0.187584</td>\n",
       "      <td>False</td>\n",
       "    </tr>\n",
       "    <tr>\n",
       "      <td>4</td>\n",
       "      <td>0.000000</td>\n",
       "      <td>1.848031</td>\n",
       "      <td>0</td>\n",
       "      <td>0</td>\n",
       "      <td>0.000000</td>\n",
       "      <td>-0.090922</td>\n",
       "      <td>2014-07-06</td>\n",
       "      <td>20:35:00</td>\n",
       "      <td>6</td>\n",
       "      <td>20</td>\n",
       "      <td>35</td>\n",
       "      <td>-0.288011</td>\n",
       "      <td>False</td>\n",
       "    </tr>\n",
       "    <tr>\n",
       "      <td>...</td>\n",
       "      <td>...</td>\n",
       "      <td>...</td>\n",
       "      <td>...</td>\n",
       "      <td>...</td>\n",
       "      <td>...</td>\n",
       "      <td>...</td>\n",
       "      <td>...</td>\n",
       "      <td>...</td>\n",
       "      <td>...</td>\n",
       "      <td>...</td>\n",
       "      <td>...</td>\n",
       "      <td>...</td>\n",
       "      <td>...</td>\n",
       "    </tr>\n",
       "    <tr>\n",
       "      <td>5310</td>\n",
       "      <td>3.751862</td>\n",
       "      <td>1.177471</td>\n",
       "      <td>0</td>\n",
       "      <td>0</td>\n",
       "      <td>1.378668</td>\n",
       "      <td>0.607719</td>\n",
       "      <td>2014-07-25</td>\n",
       "      <td>08:35:00</td>\n",
       "      <td>4</td>\n",
       "      <td>8</td>\n",
       "      <td>35</td>\n",
       "      <td>-0.051507</td>\n",
       "      <td>False</td>\n",
       "    </tr>\n",
       "    <tr>\n",
       "      <td>5311</td>\n",
       "      <td>0.000000</td>\n",
       "      <td>2.992705</td>\n",
       "      <td>0</td>\n",
       "      <td>0</td>\n",
       "      <td>1.983836</td>\n",
       "      <td>-0.090922</td>\n",
       "      <td>2014-07-25</td>\n",
       "      <td>08:40:00</td>\n",
       "      <td>4</td>\n",
       "      <td>8</td>\n",
       "      <td>40</td>\n",
       "      <td>-0.288011</td>\n",
       "      <td>False</td>\n",
       "    </tr>\n",
       "    <tr>\n",
       "      <td>5312</td>\n",
       "      <td>15.505864</td>\n",
       "      <td>0.992360</td>\n",
       "      <td>0</td>\n",
       "      <td>0</td>\n",
       "      <td>1.782880</td>\n",
       "      <td>2.796451</td>\n",
       "      <td>2014-07-25</td>\n",
       "      <td>08:45:00</td>\n",
       "      <td>4</td>\n",
       "      <td>8</td>\n",
       "      <td>45</td>\n",
       "      <td>0.689426</td>\n",
       "      <td>False</td>\n",
       "    </tr>\n",
       "    <tr>\n",
       "      <td>5313</td>\n",
       "      <td>1.397614</td>\n",
       "      <td>3.751862</td>\n",
       "      <td>0</td>\n",
       "      <td>0</td>\n",
       "      <td>4.648558</td>\n",
       "      <td>0.169330</td>\n",
       "      <td>2014-07-25</td>\n",
       "      <td>08:50:00</td>\n",
       "      <td>4</td>\n",
       "      <td>8</td>\n",
       "      <td>50</td>\n",
       "      <td>-0.199910</td>\n",
       "      <td>False</td>\n",
       "    </tr>\n",
       "    <tr>\n",
       "      <td>5314</td>\n",
       "      <td>0.000000</td>\n",
       "      <td>0.000000</td>\n",
       "      <td>0</td>\n",
       "      <td>0</td>\n",
       "      <td>4.329540</td>\n",
       "      <td>-0.090922</td>\n",
       "      <td>2014-07-25</td>\n",
       "      <td>08:55:00</td>\n",
       "      <td>4</td>\n",
       "      <td>8</td>\n",
       "      <td>55</td>\n",
       "      <td>-0.288011</td>\n",
       "      <td>False</td>\n",
       "    </tr>\n",
       "  </tbody>\n",
       "</table>\n",
       "<p>5315 rows × 13 columns</p>\n",
       "</div>"
      ],
      "text/plain": [
       "          value      prev  prev_2  prev_3  last_5_mean         z        date  \\\n",
       "0      1.047256  0.000000       0       0     0.000000  0.104089  2014-07-06   \n",
       "1      1.848031  0.000000       0       0     0.000000  0.253203  2014-07-06   \n",
       "2      1.297892  0.000000       0       0     0.000000  0.150761  2014-07-06   \n",
       "3      1.593151  1.047256       0       0     0.000000  0.205741  2014-07-06   \n",
       "4      0.000000  1.848031       0       0     0.000000 -0.090922  2014-07-06   \n",
       "...         ...       ...     ...     ...          ...       ...         ...   \n",
       "5310   3.751862  1.177471       0       0     1.378668  0.607719  2014-07-25   \n",
       "5311   0.000000  2.992705       0       0     1.983836 -0.090922  2014-07-25   \n",
       "5312  15.505864  0.992360       0       0     1.782880  2.796451  2014-07-25   \n",
       "5313   1.397614  3.751862       0       0     4.648558  0.169330  2014-07-25   \n",
       "5314   0.000000  0.000000       0       0     4.329540 -0.090922  2014-07-25   \n",
       "\n",
       "          time  dow  hour  min  normed_z  anomaly  \n",
       "0     20:10:00    6    20   10 -0.221996    False  \n",
       "1     20:15:00    6    20   15 -0.171517    False  \n",
       "2     20:20:00    6    20   20 -0.206196    False  \n",
       "3     20:25:00    6    20   25 -0.187584    False  \n",
       "4     20:35:00    6    20   35 -0.288011    False  \n",
       "...        ...  ...   ...  ...       ...      ...  \n",
       "5310  08:35:00    4     8   35 -0.051507    False  \n",
       "5311  08:40:00    4     8   40 -0.288011    False  \n",
       "5312  08:45:00    4     8   45  0.689426    False  \n",
       "5313  08:50:00    4     8   50 -0.199910    False  \n",
       "5314  08:55:00    4     8   55 -0.288011    False  \n",
       "\n",
       "[5315 rows x 13 columns]"
      ]
     },
     "execution_count": 492,
     "metadata": {},
     "output_type": "execute_result"
    }
   ],
   "source": [
    "data"
   ]
  },
  {
   "cell_type": "markdown",
   "metadata": {},
   "source": [
    "So this is going to be wierd, since anomolies are so rare. We will need a large enough slice to capture at least a few"
   ]
  },
  {
   "cell_type": "code",
   "execution_count": 493,
   "metadata": {},
   "outputs": [],
   "source": [
    "label = data['anomaly']\n",
    "features = data[['value', 'prev', 'dow', 'hour', 'min', 'normed_z', 'z']]\n",
    "train_x, test_x, train_y, test_y = train_test_split(features, label, random_state=1349, test_size=0.30)"
   ]
  },
  {
   "cell_type": "code",
   "execution_count": 494,
   "metadata": {},
   "outputs": [
    {
     "data": {
      "text/plain": [
       "False    3705\n",
       "True       15\n",
       "Name: anomaly, dtype: int64"
      ]
     },
     "execution_count": 494,
     "metadata": {},
     "output_type": "execute_result"
    }
   ],
   "source": [
    "train_y.value_counts()"
   ]
  },
  {
   "cell_type": "code",
   "execution_count": 495,
   "metadata": {},
   "outputs": [
    {
     "data": {
      "text/plain": [
       "False    1589\n",
       "True        6\n",
       "Name: anomaly, dtype: int64"
      ]
     },
     "execution_count": 495,
     "metadata": {},
     "output_type": "execute_result"
    }
   ],
   "source": [
    "test_y.value_counts()"
   ]
  },
  {
   "cell_type": "code",
   "execution_count": 496,
   "metadata": {},
   "outputs": [],
   "source": [
    "##Not ideal, but it's what we have"
   ]
  },
  {
   "cell_type": "code",
   "execution_count": 497,
   "metadata": {},
   "outputs": [
    {
     "data": {
      "text/plain": [
       "IsolationForest(behaviour='deprecated', bootstrap=False, contamination='auto',\n",
       "                max_features=1.0, max_samples='auto', n_estimators=500,\n",
       "                n_jobs=None, random_state=1, verbose=0, warm_start=False)"
      ]
     },
     "execution_count": 497,
     "metadata": {},
     "output_type": "execute_result"
    }
   ],
   "source": [
    "isolationforest = IsolationForest(500,random_state=1)\n",
    "isolationforest.fit(train_x, train_y)"
   ]
  },
  {
   "cell_type": "code",
   "execution_count": 498,
   "metadata": {},
   "outputs": [],
   "source": [
    "gnb = GaussianNB().fit(train_x, train_y)"
   ]
  },
  {
   "cell_type": "code",
   "execution_count": 499,
   "metadata": {},
   "outputs": [],
   "source": [
    "if_pred = isolationforest.predict(test_x)\n",
    "nb_pred = gnb.predict(test_x)"
   ]
  },
  {
   "cell_type": "markdown",
   "metadata": {},
   "source": [
    "NaiveBayes Scoring"
   ]
  },
  {
   "cell_type": "code",
   "execution_count": 500,
   "metadata": {},
   "outputs": [
    {
     "data": {
      "text/plain": [
       "array([[1562,   27],\n",
       "       [   0,    6]])"
      ]
     },
     "execution_count": 500,
     "metadata": {},
     "output_type": "execute_result"
    }
   ],
   "source": [
    "confusion_matrix(test_y, nb_pred)"
   ]
  },
  {
   "cell_type": "code",
   "execution_count": 501,
   "metadata": {},
   "outputs": [
    {
     "data": {
      "text/plain": [
       "0.3076923076923077"
      ]
     },
     "execution_count": 501,
     "metadata": {},
     "output_type": "execute_result"
    }
   ],
   "source": [
    "f1_score(test_y, nb_pred)"
   ]
  },
  {
   "cell_type": "code",
   "execution_count": 502,
   "metadata": {},
   "outputs": [
    {
     "name": "stdout",
     "output_type": "stream",
     "text": [
      "              precision    recall  f1-score   support\n",
      "\n",
      "      normal       1.00      0.98      0.99      1589\n",
      "     anomaly       0.18      1.00      0.31         6\n",
      "\n",
      "    accuracy                           0.98      1595\n",
      "   macro avg       0.59      0.99      0.65      1595\n",
      "weighted avg       1.00      0.98      0.99      1595\n",
      "\n"
     ]
    }
   ],
   "source": [
    "print(classification_report(test_y, nb_pred, target_names=['normal', 'anomaly']))"
   ]
  },
  {
   "cell_type": "markdown",
   "metadata": {},
   "source": [
    "Now, for the Isolation Forest"
   ]
  },
  {
   "cell_type": "code",
   "execution_count": 503,
   "metadata": {},
   "outputs": [],
   "source": [
    "def recast(x):\n",
    "    if (x == 1):\n",
    "        return 0\n",
    "    if (x==-1):\n",
    "        return 1"
   ]
  },
  {
   "cell_type": "code",
   "execution_count": 504,
   "metadata": {},
   "outputs": [],
   "source": [
    "rc_if_pred = pd.Series(if_pred).apply(lambda x: recast(x))"
   ]
  },
  {
   "cell_type": "code",
   "execution_count": 505,
   "metadata": {},
   "outputs": [
    {
     "data": {
      "text/plain": [
       "array([[1428,  161],\n",
       "       [   0,    6]])"
      ]
     },
     "execution_count": 505,
     "metadata": {},
     "output_type": "execute_result"
    }
   ],
   "source": [
    "confusion_matrix(test_y, rc_if_pred)"
   ]
  },
  {
   "cell_type": "code",
   "execution_count": 506,
   "metadata": {},
   "outputs": [
    {
     "name": "stdout",
     "output_type": "stream",
     "text": [
      "              precision    recall  f1-score   support\n",
      "\n",
      "      normal       1.00      0.90      0.95      1589\n",
      "     anomaly       0.04      1.00      0.07         6\n",
      "\n",
      "    accuracy                           0.90      1595\n",
      "   macro avg       0.52      0.95      0.51      1595\n",
      "weighted avg       1.00      0.90      0.94      1595\n",
      "\n"
     ]
    }
   ],
   "source": [
    "print(classification_report(test_y, rc_if_pred, target_names=['normal', 'anomaly']))"
   ]
  },
  {
   "cell_type": "markdown",
   "metadata": {},
   "source": [
    "Interestingly, NaiveBayes did a better job in not calling false alarms true alarms. Both did do an excellent job of detection, however, as they had no false negatives. I suppose the Isolation Forest may be a better way of trying to do intrusion detection as it is more paranoid, but using only the features, NB did an overall more accurate job.\n",
    "\n",
    "\n",
    "I actually tried this at a few z scores of normalized data away, and the result was the same. IF is way more trigger happy with the false positives than NB. This may be due to some factors like feature poisoning, if the temporal value wasn't particular useful. However, the generation algorithms for RFs should be sufficient to address that. I even bumped up the tree number to address that, but to no avail. I had hoped that there would be some clear temporal pattern that emerged, but the faceting didn't really show too much of a crossover except in a slightly trivial way that may have only been a few cases. \n",
    "\n",
    "So this is partially an issue with the dataset as well. Anomalies, by definition, are rare data points, and I didn't have a very high pool from which to choose given the dataset we had. I'd have to either artificially create more points, or begin to exclude real normal timepoints that were just low. Doing the latter would create the conditions however where the normal range other values around a no-usage time may appear suspect when they aren't.\n",
    "\n",
    "I added the last 5 values average feature late in the game, figuring it may help with some trend analysis like the forecasting. It didn't help. I could have likely gotten better value by actually doing a trend analysis line, _then_ casting the projected deviations as anomalies. But there is a better question, since I set the anomaly values myself, ie, greater than some z score, then why not just use that as the alarm value itself and say the IQR model is best fitting? It doesn't feel very elegant, but it seems effective. Had this set been labeled with true rogue actor data, I'd have felt less comfortable with doing things the way I did, but since I can expect all spikes to be suspicious, we can treat those as the true anomalies, meaning our known attack set is anything that produces passes some threshold in the value column.\n",
    "\n",
    "Of course, changes in the style of data may adjust this. Say a season of high use bumps up the average. That would have to be considered, so such a model would have to frequently be retrained. The collection of more true anomalies would be useful as well for balancing the dataset a bit better. "
   ]
  },
  {
   "cell_type": "code",
   "execution_count": null,
   "metadata": {},
   "outputs": [],
   "source": []
  }
 ],
 "metadata": {
  "kernelspec": {
   "display_name": "Python 3",
   "language": "python",
   "name": "python3"
  },
  "language_info": {
   "codemirror_mode": {
    "name": "ipython",
    "version": 3
   },
   "file_extension": ".py",
   "mimetype": "text/x-python",
   "name": "python",
   "nbconvert_exporter": "python",
   "pygments_lexer": "ipython3",
   "version": "3.7.4"
  }
 },
 "nbformat": 4,
 "nbformat_minor": 4
}
